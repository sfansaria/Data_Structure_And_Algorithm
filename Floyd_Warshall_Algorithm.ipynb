{
  "nbformat": 4,
  "nbformat_minor": 0,
  "metadata": {
    "colab": {
      "provenance": [],
      "authorship_tag": "ABX9TyNk58kUhe6eNC23wrHZq29N",
      "include_colab_link": true
    },
    "kernelspec": {
      "name": "python3",
      "display_name": "Python 3"
    },
    "language_info": {
      "name": "python"
    }
  },
  "cells": [
    {
      "cell_type": "markdown",
      "metadata": {
        "id": "view-in-github",
        "colab_type": "text"
      },
      "source": [
        "<a href=\"https://colab.research.google.com/github/sfansaria/Data_Structure_And_Algorithm/blob/main/Floyd_Warshall_Algorithm.ipynb\" target=\"_parent\"><img src=\"https://colab.research.google.com/assets/colab-badge.svg\" alt=\"Open In Colab\"/></a>"
      ]
    },
    {
      "cell_type": "code",
      "execution_count": null,
      "metadata": {
        "colab": {
          "base_uri": "https://localhost:8080/"
        },
        "id": "WAbh5YeMVpMT",
        "outputId": "6c9beeaf-6035-4db0-a787-07b96ceccc69"
      },
      "outputs": [
        {
          "output_type": "stream",
          "name": "stdout",
          "text": [
            "0 3 7 5  \n",
            "2 0 6 4  \n",
            "3 1 0 5  \n",
            "5 3 2 0  \n"
          ]
        }
      ],
      "source": [
        "#Floyd-Warshall Algorithm\n",
        "\n",
        "INF = 999\n",
        "\n",
        "\n",
        "def floyd_warshall(graph):\n",
        "    distances = list(map(lambda i : list(map(lambda j : j, i)), graph))\n",
        "\n",
        "    for k in range(n_V):\n",
        "        for i in range(n_V):\n",
        "            for j in range(n_V):\n",
        "                distances[i][j] = min(distances[i][j], distances[i][k]+distances[k][j])\n",
        "\n",
        "    print_solution(distances)\n",
        "\n",
        "def print_solution(distances):\n",
        "\n",
        "    for i in range(n_V):\n",
        "       for j in range(n_V):\n",
        "           if distances[i][j]==INF:\n",
        "               print('INF',end=\" \")\n",
        "           else:\n",
        "               print(distances[i][j], end=\" \")\n",
        "       print(\" \")\n",
        "\n",
        "graph = [[0, 3, INF, 5],\n",
        "         [2, 0, INF, 4],\n",
        "         [INF, 1, 0, INF],\n",
        "         [INF, INF, 2, 0]]\n",
        "n_V = len(graph)\n",
        "floyd_warshall(graph)"
      ]
    }
  ]
}