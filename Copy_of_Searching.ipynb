{
  "nbformat": 4,
  "nbformat_minor": 0,
  "metadata": {
    "colab": {
      "provenance": [],
      "authorship_tag": "ABX9TyOECQ6ocYG95E2JFEiN4ZcS",
      "include_colab_link": true
    },
    "kernelspec": {
      "name": "python3",
      "display_name": "Python 3"
    },
    "language_info": {
      "name": "python"
    }
  },
  "cells": [
    {
      "cell_type": "markdown",
      "metadata": {
        "id": "view-in-github",
        "colab_type": "text"
      },
      "source": [
        "<a href=\"https://colab.research.google.com/github/sfansaria/Data_Structure_And_Algorithm/blob/main/Copy_of_Searching.ipynb\" target=\"_parent\"><img src=\"https://colab.research.google.com/assets/colab-badge.svg\" alt=\"Open In Colab\"/></a>"
      ]
    },
    {
      "cell_type": "code",
      "execution_count": null,
      "metadata": {
        "colab": {
          "base_uri": "https://localhost:8080/"
        },
        "id": "TfOvwH8gYhcJ",
        "outputId": "7c9ec453-185b-4825-d82e-462b5079ae29"
      },
      "outputs": [
        {
          "output_type": "stream",
          "name": "stdout",
          "text": [
            "Element found\n"
          ]
        }
      ],
      "source": [
        "#Searching\n",
        "\n",
        "#Linear_Search\n",
        "\n",
        "#for linear search the data should be sorted\n",
        "\n",
        "def linear_search(array, target):\n",
        "  n = len(array)\n",
        "\n",
        "  for i in range(0,n):\n",
        "    if array[i]==target:\n",
        "       return i\n",
        "  return -1\n",
        "\n",
        "data = [0, 2, 4, 9, 20 ]\n",
        "target = 4\n",
        "m = linear_search(data, target)\n",
        "if m == -1:\n",
        "  print(\"Element not found\")\n",
        "else:\n",
        "  print(\"Element found\")"
      ]
    },
    {
      "cell_type": "code",
      "source": [
        "#Binary Search\n",
        "\n",
        "def binary_search(array, target):\n",
        "    low = 0\n",
        "    high = len(array)-1\n",
        "    while low <= high:\n",
        "      mid = low + (high-low)//2\n",
        "\n",
        "      if array[mid] == target:\n",
        "         return mid\n",
        "      elif array[mid] > target:\n",
        "           high = mid-1\n",
        "      elif array[mid] < target:\n",
        "           low = mid+1\n",
        "\n",
        "    return -1\n",
        "\n",
        "data = [ 0, 4, 7, 9, 11]\n",
        "target = 11\n",
        "res = binary_search(data, target)\n",
        "if res == -1:\n",
        "  print(\"Element not found\")\n",
        "else:\n",
        "  print(\"Element found\")"
      ],
      "metadata": {
        "colab": {
          "base_uri": "https://localhost:8080/"
        },
        "id": "-Zb_5rS-J0bG",
        "outputId": "cacb4eca-aafc-45ca-a088-e93fb31f2fa8"
      },
      "execution_count": null,
      "outputs": [
        {
          "output_type": "stream",
          "name": "stdout",
          "text": [
            "Element found\n"
          ]
        }
      ]
    },
    {
      "cell_type": "code",
      "source": [
        "#Depth First Search\n",
        "\n",
        "def dfs(graph, node, visited):\n",
        "    if visited is None:\n",
        "       visited = set()\n",
        "    visited.add(node)\n",
        "    print(node)\n",
        "\n",
        "    for next in graph[node]-visited:\n",
        "       dfs(graph, next, visited)\n",
        "    return visited\n",
        "\n",
        "\n",
        "\n",
        "graph = {'0':set(['1', '2']),\n",
        "         '1':set(['0', '3', '4']),\n",
        "         '2':set(['0']),\n",
        "         '3': set(['1']),\n",
        "         '4': set(['2', '3'])}\n",
        "\n",
        "dfs(graph, '4', None)"
      ],
      "metadata": {
        "colab": {
          "base_uri": "https://localhost:8080/"
        },
        "id": "FSZapUFSLNxt",
        "outputId": "6c0ed2d3-8a4b-4fbb-a304-2d094e602301"
      },
      "execution_count": null,
      "outputs": [
        {
          "output_type": "stream",
          "name": "stdout",
          "text": [
            "4\n",
            "3\n",
            "1\n",
            "0\n",
            "2\n",
            "2\n"
          ]
        },
        {
          "output_type": "execute_result",
          "data": {
            "text/plain": [
              "{'0', '1', '2', '3', '4'}"
            ]
          },
          "metadata": {},
          "execution_count": 18
        }
      ]
    },
    {
      "cell_type": "code",
      "source": [
        "#Breadth_First_Search\n",
        "\n",
        "\n",
        "visited = []\n",
        "queue = []\n",
        "def bfs(graph, node, visited):\n",
        "    visited.append(node)\n",
        "    queue.append(node)\n",
        "\n",
        "    while queue:\n",
        "      m = queue.pop(0)\n",
        "      print(m,end=\" \")\n",
        "\n",
        "      for item in graph:\n",
        "          if item not in visited:\n",
        "                 visited.append(item)\n",
        "                 queue.append(item)\n",
        "\n",
        "graph = {'5': ['3', '7'],\n",
        "         '3': ['2', '4'],\n",
        "         '7': ['8'],\n",
        "         '2': [],\n",
        "         '4':['8'],\n",
        "         }\n",
        "bfs(graph, '5', visited)"
      ],
      "metadata": {
        "colab": {
          "base_uri": "https://localhost:8080/"
        },
        "id": "bX48523HPpXl",
        "outputId": "94a89cb1-cbbd-42f4-c940-55277e268017"
      },
      "execution_count": null,
      "outputs": [
        {
          "output_type": "stream",
          "name": "stdout",
          "text": [
            "5 3 7 2 4 "
          ]
        }
      ]
    }
  ]
}