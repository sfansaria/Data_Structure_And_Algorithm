{
  "nbformat": 4,
  "nbformat_minor": 0,
  "metadata": {
    "colab": {
      "provenance": [],
      "authorship_tag": "ABX9TyMMcoNnZK2XjvipmpvI8dfL",
      "include_colab_link": true
    },
    "kernelspec": {
      "name": "python3",
      "display_name": "Python 3"
    },
    "language_info": {
      "name": "python"
    }
  },
  "cells": [
    {
      "cell_type": "markdown",
      "metadata": {
        "id": "view-in-github",
        "colab_type": "text"
      },
      "source": [
        "<a href=\"https://colab.research.google.com/github/sfansaria/Data_Structure_And_Algorithm/blob/main/Sorting.ipynb\" target=\"_parent\"><img src=\"https://colab.research.google.com/assets/colab-badge.svg\" alt=\"Open In Colab\"/></a>"
      ]
    },
    {
      "cell_type": "code",
      "source": [
        "#Sorting"
      ],
      "metadata": {
        "id": "tCrVKpQg5XJt"
      },
      "execution_count": null,
      "outputs": []
    },
    {
      "cell_type": "code",
      "execution_count": null,
      "metadata": {
        "colab": {
          "base_uri": "https://localhost:8080/"
        },
        "id": "JcOx-6VZUhEy",
        "outputId": "529a6562-25c9-4d57-f774-4b63a48e7e99"
      },
      "outputs": [
        {
          "output_type": "stream",
          "name": "stdout",
          "text": [
            "[-2, -1, 0, 3, 8, 9]\n"
          ]
        }
      ],
      "source": [
        "#Bubble_sort\n",
        "\n",
        "def bubble_sort(array):\n",
        "  n = len(array)\n",
        "\n",
        "  for i in range(n):\n",
        "    a_sorted = True\n",
        "\n",
        "    for j in range(n-i-1):\n",
        "      if array[j] > array[j+1]:\n",
        "         array[j], array[j+1] = array[j+1], array[j]\n",
        "\n",
        "         a_sorted = False\n",
        "    if a_sorted:\n",
        "      break\n",
        "  return array\n",
        "\n",
        "data = [-1, 9, 3, 8, -2, 0]\n",
        "print(bubble_sort(data))"
      ]
    },
    {
      "cell_type": "code",
      "source": [
        "#Insertion_sort\n",
        "def insertion_sort(array):\n",
        "  n = len(array)\n",
        "\n",
        "  for i in range(1, n):\n",
        "    key = array[i]\n",
        "\n",
        "    j = i-1\n",
        "\n",
        "    while j >= 0 and array[j] > key:\n",
        "      array[j+1] = array[j]\n",
        "      j = j-1\n",
        "\n",
        "    array[j+1] = key\n",
        "\n",
        "  return array\n",
        "\n",
        "data = [0, 7, -1, 8, 3, 9]\n",
        "print(insertion_sort(data))"
      ],
      "metadata": {
        "colab": {
          "base_uri": "https://localhost:8080/"
        },
        "id": "2nqoBRg-VuYx",
        "outputId": "63906d15-c9a0-476c-a805-76fdfb648c97"
      },
      "execution_count": null,
      "outputs": [
        {
          "output_type": "stream",
          "name": "stdout",
          "text": [
            "[-1, 0, 3, 7, 8, 9]\n"
          ]
        }
      ]
    },
    {
      "cell_type": "code",
      "source": [
        "#Merge_sort\n",
        "\n",
        "\n",
        "def merge(left,right):\n",
        "\n",
        "  if len(left)==0:\n",
        "    return right\n",
        "\n",
        "  if len(right)==0:\n",
        "    return left\n",
        "\n",
        "  result = []\n",
        "  left_index = right_index = 0\n",
        "\n",
        "  while len(result) < len(left) + len(result):\n",
        "\n",
        "    if left[left_index] <= right[right_index]:\n",
        "      result.append(left[left_index])\n",
        "      left_index += 1\n",
        "    else:\n",
        "      result.append(right[right_index])\n",
        "      right_index += 1\n",
        "\n",
        "\n",
        "    if right_index == len(right):\n",
        "        result += left[left_index:]\n",
        "        break\n",
        "\n",
        "    if left_index == len(left):\n",
        "        result += right[right_index:]\n",
        "        break\n",
        "  return result\n",
        "\n",
        "\n",
        "def merge_sort(array):\n",
        "\n",
        "    if len(array) < 2:\n",
        "       return array\n",
        "\n",
        "\n",
        "    midpoint = len(array)//2\n",
        "\n",
        "    return merge(left=merge_sort(array[:midpoint]),right=merge_sort(array[midpoint:]))\n",
        "\n",
        "data = [-2, 9, 8, 2, 0, 10]\n",
        "\n",
        "print(merge_sort(data))\n",
        "\n"
      ],
      "metadata": {
        "colab": {
          "base_uri": "https://localhost:8080/"
        },
        "id": "bFnPeBBj5S1L",
        "outputId": "db802a23-c06a-4b9e-cab1-e9fe6dfd1d39"
      },
      "execution_count": null,
      "outputs": [
        {
          "output_type": "stream",
          "name": "stdout",
          "text": [
            "[-2, 0, 2, 8, 9, 10]\n"
          ]
        }
      ]
    },
    {
      "cell_type": "code",
      "source": [
        "#Quick_sort\n",
        "\n",
        "\n",
        "from random import randint\n",
        "\n",
        "def quick_sort(array):\n",
        "    if len(array) < 2:\n",
        "      return array\n",
        "\n",
        "    n = len(array)\n",
        "\n",
        "    low, same, high = [], [], []\n",
        "\n",
        "    pivot = array[randint(0, n-1)]\n",
        "\n",
        "    for item in array:\n",
        "      if item < pivot:\n",
        "        low.append(item)\n",
        "      elif item == pivot:\n",
        "        same.append(item)\n",
        "      elif item > pivot:\n",
        "        high.append(item)\n",
        "\n",
        "    return quick_sort(low) + same + quick_sort(high)\n",
        "\n",
        "data = [0, -1, 9, 78, 2, -3]\n",
        "\n",
        "print(quick_sort(data))\n",
        "\n"
      ],
      "metadata": {
        "colab": {
          "base_uri": "https://localhost:8080/"
        },
        "id": "xVX67m3ZAmNA",
        "outputId": "70f2e6cd-2400-401f-b670-92553205c1b5"
      },
      "execution_count": null,
      "outputs": [
        {
          "output_type": "stream",
          "name": "stdout",
          "text": [
            "[-3, -1, 0, 2, 9, 78]\n"
          ]
        }
      ]
    },
    {
      "cell_type": "code",
      "source": [
        "#Bucket_sort\n",
        "\n",
        "\n",
        "def bucket_sort(array):\n",
        "    #create an empty bucket\n",
        "\n",
        "    bucket = []\n",
        "\n",
        "    for i in range(len(array)):\n",
        "       bucket.append([])\n",
        "\n",
        "    #insert elements of the array into the range it belongs\n",
        "\n",
        "    for j in array:\n",
        "        index = int(10*j)\n",
        "        bucket[index].append(j)\n",
        "\n",
        "    #sort the elements in the bucket\n",
        "    for i in range(len(array)):\n",
        "          bucket[i] = sorted(bucket[i])\n",
        "\n",
        "    #gather the sorted elements\n",
        "    k = 0\n",
        "    for i in range(len(array)):\n",
        "       for j in range(len(bucket[i])):\n",
        "            array[k] = bucket[i][j]\n",
        "            k += 1\n",
        "\n",
        "    return array\n",
        "\n",
        "data = [0.42, 0.32, 0.23, 0.52, 0.25, 0.47, 0.51]\n",
        "print(bucket_sort(data))\n"
      ],
      "metadata": {
        "colab": {
          "base_uri": "https://localhost:8080/"
        },
        "id": "7Edp9WX0O4M1",
        "outputId": "cf6cf971-2128-4480-e12c-40c0ce78e1cb"
      },
      "execution_count": null,
      "outputs": [
        {
          "output_type": "stream",
          "name": "stdout",
          "text": [
            "[0.23, 0.25, 0.32, 0.42, 0.47, 0.51, 0.52]\n"
          ]
        }
      ]
    }
  ]
}